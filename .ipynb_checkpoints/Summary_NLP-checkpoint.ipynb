{
 "cells": [
  {
   "cell_type": "code",
   "execution_count": 2,
   "metadata": {},
   "outputs": [],
   "source": [
    "import spacy\n",
    "from spacy.lang.en.stop_words import STOP_WORDS\n",
    "from string import punctuation\n",
    "from transformers import T5Tokenizer, T5ForConditionalGeneration, T5Config\n",
    "from nltk.translate.bleu_score import sentence_bleu"
   ]
  },
  {
   "cell_type": "code",
   "execution_count": null,
   "metadata": {
    "scrolled": true
   },
   "outputs": [],
   "source": []
  },
  {
   "cell_type": "code",
   "execution_count": 4,
   "metadata": {},
   "outputs": [],
   "source": [
    "nlp=spacy.load('en_core_web_sm')"
   ]
  },
  {
   "cell_type": "code",
   "execution_count": 5,
   "metadata": {},
   "outputs": [
    {
     "data": {
      "text/plain": [
       "'Nationalism happens because of common factors. The people of a nation share these common factors. These common factors are common language, history, culture, traditions, mentality, and territory. Thus a sense of belonging would certainly come in people. It would inevitably happen, whether you like it or not. Therefore, a feeling of unity and love would happen among national citizens. In this way, Nationalism gives strength to the people of the nation.\\n\\nNationalism has an inverse relationship with crime. It seems like crime rates are significantly lower in countries with strong Nationalism. This happens because Nationalism puts feelings of love towards fellow countrymen. Therefore, many people avoid committing a crime against their own countrymen. Similarly, corruption is also low in such countries. Individuals in whose heart is Nationalism, avoid corruption. This is because they feel guilty to harm their country.'"
      ]
     },
     "execution_count": 5,
     "metadata": {},
     "output_type": "execute_result"
    }
   ],
   "source": [
    "text=\"\"\"Nationalism happens because of common factors. The people of a nation share these common factors. These common factors are common language, history, culture, traditions, mentality, and territory. Thus a sense of belonging would certainly come in people. It would inevitably happen, whether you like it or not. Therefore, a feeling of unity and love would happen among national citizens. In this way, Nationalism gives strength to the people of the nation.\n",
    "\n",
    "Nationalism has an inverse relationship with crime. It seems like crime rates are significantly lower in countries with strong Nationalism. This happens because Nationalism puts feelings of love towards fellow countrymen. Therefore, many people avoid committing a crime against their own countrymen. Similarly, corruption is also low in such countries. Individuals in whose heart is Nationalism, avoid corruption. This is because they feel guilty to harm their country.\"\"\"\n",
    "text"
   ]
  },
  {
   "cell_type": "code",
   "execution_count": 6,
   "metadata": {},
   "outputs": [],
   "source": [
    "doc=nlp(text)"
   ]
  },
  {
   "cell_type": "code",
   "execution_count": 7,
   "metadata": {},
   "outputs": [
    {
     "name": "stdout",
     "output_type": "stream",
     "text": [
      "['Nationalism', 'happens', 'because', 'of', 'common', 'factors', '.', 'The', 'people', 'of', 'a', 'nation', 'share', 'these', 'common', 'factors', '.', 'These', 'common', 'factors', 'are', 'common', 'language', ',', 'history', ',', 'culture', ',', 'traditions', ',', 'mentality', ',', 'and', 'territory', '.', 'Thus', 'a', 'sense', 'of', 'belonging', 'would', 'certainly', 'come', 'in', 'people', '.', 'It', 'would', 'inevitably', 'happen', ',', 'whether', 'you', 'like', 'it', 'or', 'not', '.', 'Therefore', ',', 'a', 'feeling', 'of', 'unity', 'and', 'love', 'would', 'happen', 'among', 'national', 'citizens', '.', 'In', 'this', 'way', ',', 'Nationalism', 'gives', 'strength', 'to', 'the', 'people', 'of', 'the', 'nation', '.', '\\n\\n', 'Nationalism', 'has', 'an', 'inverse', 'relationship', 'with', 'crime', '.', 'It', 'seems', 'like', 'crime', 'rates', 'are', 'significantly', 'lower', 'in', 'countries', 'with', 'strong', 'Nationalism', '.', 'This', 'happens', 'because', 'Nationalism', 'puts', 'feelings', 'of', 'love', 'towards', 'fellow', 'countrymen', '.', 'Therefore', ',', 'many', 'people', 'avoid', 'committing', 'a', 'crime', 'against', 'their', 'own', 'countrymen', '.', 'Similarly', ',', 'corruption', 'is', 'also', 'low', 'in', 'such', 'countries', '.', 'Individuals', 'in', 'whose', 'heart', 'is', 'Nationalism', ',', 'avoid', 'corruption', '.', 'This', 'is', 'because', 'they', 'feel', 'guilty', 'to', 'harm', 'their', 'country', '.']\n"
     ]
    }
   ],
   "source": [
    "tokens=[token.text for token in doc]\n",
    "print(tokens)"
   ]
  },
  {
   "cell_type": "code",
   "execution_count": 31,
   "metadata": {},
   "outputs": [
    {
     "name": "stdout",
     "output_type": "stream",
     "text": [
      "['top', 'an', 'who', 'beforehand', '‘s', 'from', \"'ll\", 'latter', 'does', 'thereupon', 'forty', 'otherwise', 'thereby', 'always', 'mostly', 'five', 'very', 'off', 'someone', 'onto', 'had', 'below', 'thence', 'sometime', \"'s\", 'the', 'by', 'and', 'nine', 'hereafter', 'quite', 'how', 'everywhere', 'toward', 'nevertheless', 'one', 'two', 'whereby', 'herein', 'give', 'to', 'may', 'was', 'themselves', 'yet', 'yours', 'between', 'go', '’ll', 'sometimes', 'whether', 'unless', '’m', 'among', 'at', 'all', 'made', 'along', 'much', 'thus', 'enough', 'would', 'on', 'they', 'towards', 'hereby', 'other', 'nothing', 'do', 'side', 'because', 'first', 'ourselves', 'four', 'nobody', 'former', 'across', 'under', 'behind', 'afterwards', 'should', '‘ll', 'himself', 'less', 'such', 'somehow', 'eight', 'them', 'none', 'next', 'than', 'take', 'doing', 'hundred', 'only', 'during', 'n‘t', 'were', 'must', 'whose', 'where', 'might', 'down', 'six', 'mine', 'rather', 'without', 'with', 'show', 'empty', 'besides', 'hereupon', 'per', 'will', 'in', 'seem', 'even', 'almost', 'others', 'anything', 'her', 'or', 'alone', 'nor', 'what', 'both', 'of', 'many', 'has', 'last', 'most', 'but', 'into', 'now', 'formerly', 'so', 'we', 'another', 'see', 'whom', 'yourselves', 'since', 'then', \"'ve\", 'anyway', 'front', 'some', 'its', 'namely', 're', 'same', 'through', 'eleven', 'that', 'noone', 'nowhere', 'neither', 'us', 'indeed', 'over', 'twelve', 'which', 'perhaps', 'their', 'sixty', 'becoming', 'done', 'often', 'whereupon', 'further', 'please', '’d', 'something', 'full', 'i', 'anywhere', 'third', 'whoever', 'though', '‘d', 'keep', 'name', 'is', 'this', 'while', 'ten', 'whenever', 'whereafter', 'my', 'n’t', 'cannot', 'bottom', 'own', 'can', 'also', 'after', 'via', 'he', 'within', 'whereas', '‘m', 'out', \"'m\", 'whither', 'whence', 'together', 'amount', 'upon', 'move', 'three', 'as', 'these', 'already', 'before', 'seeming', 'using', 'have', 'ours', 'just', 'seemed', 'ever', 'make', 'are', 'twenty', 'hers', 'therein', 'yourself', 'various', 'once', 'although', 'thereafter', 'why', 'a', 'beyond', 'say', 'wherever', 'latterly', 'really', 'again', 'ca', 'least', 'except', 'due', 'did', 'whole', 'hence', \"n't\", 'no', 'when', 'there', 'for', 'fifty', 'more', 'several', 'serious', 'be', 'above', 'could', \"'d\", 'else', 'until', 'moreover', 'somewhere', 'anyone', 'beside', 'our', 'therefore', 'every', 'about', 'amongst', 'him', 'if', 'those', 'either', 'myself', 'few', 'still', '’s', 'up', 'back', 'she', 'meanwhile', '’re', 'throughout', 'around', 'am', 'it', 'never', 'wherein', '‘re', 'herself', 'been', 'itself', 'everything', 'however', 'whatever', 'any', 'used', 'well', 'being', 'elsewhere', 'here', 'too', 'put', \"'re\", 'became', 'everyone', 'me', 'your', 'become', 'thru', 'get', 'not', 'his', 'you', '’ve', '‘ve', 'each', 'regarding', 'anyhow', 'fifteen', 'part', 'seems', 'becomes', 'call', 'against']\n"
     ]
    }
   ],
   "source": [
    "stopwords=list(STOP_WORDS)\n",
    "print(stopwords)"
   ]
  },
  {
   "cell_type": "code",
   "execution_count": 9,
   "metadata": {},
   "outputs": [],
   "source": [
    "word_frequencies={}\n",
    "for word in doc:\n",
    "    if word.text.lower() not in stopwords:\n",
    "        if word.text.lower() not in punctuation:\n",
    "            if word.text not in word_frequencies.keys():\n",
    "                word_frequencies[word.text] = 1\n",
    "            else:\n",
    "                word_frequencies[word.text]+=1"
   ]
  },
  {
   "cell_type": "code",
   "execution_count": 10,
   "metadata": {},
   "outputs": [
    {
     "data": {
      "text/plain": [
       "{'Nationalism': 6,\n",
       " 'happens': 2,\n",
       " 'common': 4,\n",
       " 'factors': 3,\n",
       " 'people': 4,\n",
       " 'nation': 2,\n",
       " 'share': 1,\n",
       " 'language': 1,\n",
       " 'history': 1,\n",
       " 'culture': 1,\n",
       " 'traditions': 1,\n",
       " 'mentality': 1,\n",
       " 'territory': 1,\n",
       " 'sense': 1,\n",
       " 'belonging': 1,\n",
       " 'certainly': 1,\n",
       " 'come': 1,\n",
       " 'inevitably': 1,\n",
       " 'happen': 2,\n",
       " 'like': 2,\n",
       " 'feeling': 1,\n",
       " 'unity': 1,\n",
       " 'love': 2,\n",
       " 'national': 1,\n",
       " 'citizens': 1,\n",
       " 'way': 1,\n",
       " 'gives': 1,\n",
       " 'strength': 1,\n",
       " '\\n\\n': 1,\n",
       " 'inverse': 1,\n",
       " 'relationship': 1,\n",
       " 'crime': 3,\n",
       " 'rates': 1,\n",
       " 'significantly': 1,\n",
       " 'lower': 1,\n",
       " 'countries': 2,\n",
       " 'strong': 1,\n",
       " 'puts': 1,\n",
       " 'feelings': 1,\n",
       " 'fellow': 1,\n",
       " 'countrymen': 2,\n",
       " 'avoid': 2,\n",
       " 'committing': 1,\n",
       " 'Similarly': 1,\n",
       " 'corruption': 2,\n",
       " 'low': 1,\n",
       " 'Individuals': 1,\n",
       " 'heart': 1,\n",
       " 'feel': 1,\n",
       " 'guilty': 1,\n",
       " 'harm': 1,\n",
       " 'country': 1}"
      ]
     },
     "execution_count": 10,
     "metadata": {},
     "output_type": "execute_result"
    }
   ],
   "source": [
    "word_frequencies"
   ]
  },
  {
   "cell_type": "code",
   "execution_count": 11,
   "metadata": {},
   "outputs": [
    {
     "data": {
      "text/plain": [
       "6"
      ]
     },
     "execution_count": 11,
     "metadata": {},
     "output_type": "execute_result"
    }
   ],
   "source": [
    "max_frequency=max(word_frequencies.values())\n",
    "max_frequency"
   ]
  },
  {
   "cell_type": "code",
   "execution_count": 12,
   "metadata": {},
   "outputs": [],
   "source": [
    "for word in word_frequencies.keys():\n",
    "    word_frequencies[word]=word_frequencies[word]/max_frequency\n"
   ]
  },
  {
   "cell_type": "code",
   "execution_count": 13,
   "metadata": {},
   "outputs": [
    {
     "data": {
      "text/plain": [
       "{'Nationalism': 1.0,\n",
       " 'happens': 0.3333333333333333,\n",
       " 'common': 0.6666666666666666,\n",
       " 'factors': 0.5,\n",
       " 'people': 0.6666666666666666,\n",
       " 'nation': 0.3333333333333333,\n",
       " 'share': 0.16666666666666666,\n",
       " 'language': 0.16666666666666666,\n",
       " 'history': 0.16666666666666666,\n",
       " 'culture': 0.16666666666666666,\n",
       " 'traditions': 0.16666666666666666,\n",
       " 'mentality': 0.16666666666666666,\n",
       " 'territory': 0.16666666666666666,\n",
       " 'sense': 0.16666666666666666,\n",
       " 'belonging': 0.16666666666666666,\n",
       " 'certainly': 0.16666666666666666,\n",
       " 'come': 0.16666666666666666,\n",
       " 'inevitably': 0.16666666666666666,\n",
       " 'happen': 0.3333333333333333,\n",
       " 'like': 0.3333333333333333,\n",
       " 'feeling': 0.16666666666666666,\n",
       " 'unity': 0.16666666666666666,\n",
       " 'love': 0.3333333333333333,\n",
       " 'national': 0.16666666666666666,\n",
       " 'citizens': 0.16666666666666666,\n",
       " 'way': 0.16666666666666666,\n",
       " 'gives': 0.16666666666666666,\n",
       " 'strength': 0.16666666666666666,\n",
       " '\\n\\n': 0.16666666666666666,\n",
       " 'inverse': 0.16666666666666666,\n",
       " 'relationship': 0.16666666666666666,\n",
       " 'crime': 0.5,\n",
       " 'rates': 0.16666666666666666,\n",
       " 'significantly': 0.16666666666666666,\n",
       " 'lower': 0.16666666666666666,\n",
       " 'countries': 0.3333333333333333,\n",
       " 'strong': 0.16666666666666666,\n",
       " 'puts': 0.16666666666666666,\n",
       " 'feelings': 0.16666666666666666,\n",
       " 'fellow': 0.16666666666666666,\n",
       " 'countrymen': 0.3333333333333333,\n",
       " 'avoid': 0.3333333333333333,\n",
       " 'committing': 0.16666666666666666,\n",
       " 'Similarly': 0.16666666666666666,\n",
       " 'corruption': 0.3333333333333333,\n",
       " 'low': 0.16666666666666666,\n",
       " 'Individuals': 0.16666666666666666,\n",
       " 'heart': 0.16666666666666666,\n",
       " 'feel': 0.16666666666666666,\n",
       " 'guilty': 0.16666666666666666,\n",
       " 'harm': 0.16666666666666666,\n",
       " 'country': 0.16666666666666666}"
      ]
     },
     "execution_count": 13,
     "metadata": {},
     "output_type": "execute_result"
    }
   ],
   "source": [
    "word_frequencies"
   ]
  },
  {
   "cell_type": "code",
   "execution_count": 14,
   "metadata": {},
   "outputs": [
    {
     "name": "stdout",
     "output_type": "stream",
     "text": [
      "[Nationalism happens because of common factors., The people of a nation share these common factors., These common factors are common language, history, culture, traditions, mentality, and territory., Thus a sense of belonging would certainly come in people., It would inevitably happen, whether you like it or not., Therefore, a feeling of unity and love would happen among national citizens., In this way, Nationalism gives strength to the people of the nation., \n",
      "\n",
      "Nationalism has an inverse relationship with crime., It seems like crime rates are significantly lower in countries with strong Nationalism., This happens because Nationalism puts feelings of love towards fellow countrymen., Therefore, many people avoid committing a crime against their own countrymen., Similarly, corruption is also low in such countries., Individuals in whose heart is Nationalism, avoid corruption., This is because they feel guilty to harm their country.]\n"
     ]
    }
   ],
   "source": [
    "sentence_tokens=[sent for sent in doc.sents]\n",
    "print(sentence_tokens)"
   ]
  },
  {
   "cell_type": "code",
   "execution_count": 15,
   "metadata": {},
   "outputs": [],
   "source": [
    "sentence_scores={}\n",
    "for sent in sentence_tokens:\n",
    "    for word in sent:\n",
    "        if word.text.lower() in word_frequencies.keys():\n",
    "            if sent not in sentence_scores.keys():\n",
    "                sentence_scores[sent] = word_frequencies[word.text.lower()]\n",
    "            else:\n",
    "                sentence_scores[sent] += word_frequencies[word.text.lower()]"
   ]
  },
  {
   "cell_type": "code",
   "execution_count": 16,
   "metadata": {},
   "outputs": [
    {
     "name": "stdout",
     "output_type": "stream",
     "text": [
      "{Nationalism happens because of common factors.: 1.5, The people of a nation share these common factors.: 2.3333333333333335, These common factors are common language, history, culture, traditions, mentality, and territory.: 2.8333333333333326, Thus a sense of belonging would certainly come in people.: 1.3333333333333333, It would inevitably happen, whether you like it or not.: 0.8333333333333333, Therefore, a feeling of unity and love would happen among national citizens.: 1.3333333333333335, In this way, Nationalism gives strength to the people of the nation.: 1.4999999999999998, \n",
      "\n",
      "Nationalism has an inverse relationship with crime.: 1.0, It seems like crime rates are significantly lower in countries with strong Nationalism.: 1.8333333333333333, This happens because Nationalism puts feelings of love towards fellow countrymen.: 1.5, Therefore, many people avoid committing a crime against their own countrymen.: 2.0, Similarly, corruption is also low in such countries.: 0.8333333333333333, Individuals in whose heart is Nationalism, avoid corruption.: 0.8333333333333333, This is because they feel guilty to harm their country.: 0.6666666666666666}\n"
     ]
    }
   ],
   "source": [
    "print(sentence_scores)"
   ]
  },
  {
   "cell_type": "code",
   "execution_count": 17,
   "metadata": {},
   "outputs": [],
   "source": [
    "from heapq import nlargest"
   ]
  },
  {
   "cell_type": "code",
   "execution_count": 18,
   "metadata": {},
   "outputs": [
    {
     "data": {
      "text/plain": [
       "4"
      ]
     },
     "execution_count": 18,
     "metadata": {},
     "output_type": "execute_result"
    }
   ],
   "source": [
    "select_length=int(len(sentence_tokens)*0.3)\n",
    "select_length"
   ]
  },
  {
   "cell_type": "code",
   "execution_count": 19,
   "metadata": {},
   "outputs": [],
   "source": [
    "summary=nlargest(select_length,sentence_scores,key=sentence_scores.get)"
   ]
  },
  {
   "cell_type": "code",
   "execution_count": 20,
   "metadata": {},
   "outputs": [
    {
     "name": "stdout",
     "output_type": "stream",
     "text": [
      "Summary using NLP\n"
     ]
    },
    {
     "data": {
      "text/plain": [
       "[These common factors are common language, history, culture, traditions, mentality, and territory.,\n",
       " The people of a nation share these common factors.,\n",
       " Therefore, many people avoid committing a crime against their own countrymen.,\n",
       " It seems like crime rates are significantly lower in countries with strong Nationalism.]"
      ]
     },
     "execution_count": 20,
     "metadata": {},
     "output_type": "execute_result"
    }
   ],
   "source": [
    "print(\"Summary using NLP\")\n",
    "summary"
   ]
  },
  {
   "cell_type": "code",
   "execution_count": 21,
   "metadata": {},
   "outputs": [],
   "source": [
    "model = T5ForConditionalGeneration.from_pretrained('t5-small')\n",
    "tokenizer = T5Tokenizer.from_pretrained('t5-small')"
   ]
  },
  {
   "cell_type": "code",
   "execution_count": 22,
   "metadata": {
    "scrolled": true
   },
   "outputs": [
    {
     "name": "stdout",
     "output_type": "stream",
     "text": [
      "original text preprocessed: \n",
      " Nationalism happens because of common factors. The people of a nation share these common factors. These common factors are common language, history, culture, traditions, mentality, and territory. Thus a sense of belonging would certainly come in people. It would inevitably happen, whether you like it or not. Therefore, a feeling of unity and love would happen among national citizens. In this way, Nationalism gives strength to the people of the nation.Nationalism has an inverse relationship with crime. It seems like crime rates are significantly lower in countries with strong Nationalism. This happens because Nationalism puts feelings of love towards fellow countrymen. Therefore, many people avoid committing a crime against their own countrymen. Similarly, corruption is also low in such countries. Individuals in whose heart is Nationalism, avoid corruption. This is because they feel guilty to harm their country.\n"
     ]
    }
   ],
   "source": [
    "preprocess_text = text.strip().replace(\"\\n\",\"\")\n",
    "t5_prepared_Text = \"summarize: \"+preprocess_text\n",
    "print (\"original text preprocessed: \\n\", preprocess_text)\n",
    "\n",
    "tokenized_text = tokenizer.encode(t5_prepared_Text, return_tensors=\"pt\")"
   ]
  },
  {
   "cell_type": "code",
   "execution_count": 30,
   "metadata": {
    "scrolled": true
   },
   "outputs": [
    {
     "name": "stdout",
     "output_type": "stream",
     "text": [
      "\n",
      "\n",
      "Summarized text using Model: \n",
      " nationalism has an inverse relationship with crime. it seems like crime rates are significantly lower in countries with strong Nationalism. this happens because nationalism puts feelings of love towards fellow countrymen. corruption is also low in such countries.\n"
     ]
    }
   ],
   "source": [
    "summary_ids = model.generate(tokenized_text,\n",
    "                                    num_beams=4,\n",
    "                                    no_repeat_ngram_size=2,\n",
    "                                    min_length=30,\n",
    "                                    max_length=100,\n",
    "                                    early_stopping=True)\n",
    "\n",
    "output = tokenizer.decode(summary_ids[0], skip_special_tokens=True)\n",
    "\n",
    "print (\"\\n\\nSummarized text using Model: \\n\",output)"
   ]
  },
  {
   "cell_type": "code",
   "execution_count": 26,
   "metadata": {},
   "outputs": [
    {
     "name": "stdout",
     "output_type": "stream",
     "text": [
      "Using Spacy\n",
      "These common factors are common language, history, culture, traditions, mentality, and territory.The people of a nation share these common factors.Therefore, many people avoid committing a crime against their own countrymen.It seems like crime rates are significantly lower in countries with strong Nationalism.\n",
      "\n",
      "\n",
      "Using T5\n",
      "nationalism has an inverse relationship with crime. it seems like crime rates are significantly lower in countries with strong Nationalism. this happens because nationalism puts feelings of love towards fellow countrymen. corruption is also low in such countries.\n",
      "8.510469113101058e-232\n"
     ]
    }
   ],
   "source": [
    "reference=output.split(\" \")\n",
    "result=\"\"\n",
    "for s in summary:\n",
    "    result=result+s.text\n",
    "candidate=result.split(\" \")\n",
    "score = sentence_bleu(reference, candidate)\n",
    "print(\"Using Spacy\")\n",
    "print(result)\n",
    "print('\\n')\n",
    "print(\"Using T5\")\n",
    "print(output)\n",
    "print(score)"
   ]
  },
  {
   "cell_type": "code",
   "execution_count": null,
   "metadata": {},
   "outputs": [],
   "source": []
  },
  {
   "cell_type": "code",
   "execution_count": null,
   "metadata": {},
   "outputs": [],
   "source": []
  }
 ],
 "metadata": {
  "kernelspec": {
   "display_name": "Python 3",
   "language": "python",
   "name": "python3"
  },
  "language_info": {
   "codemirror_mode": {
    "name": "ipython",
    "version": 3
   },
   "file_extension": ".py",
   "mimetype": "text/x-python",
   "name": "python",
   "nbconvert_exporter": "python",
   "pygments_lexer": "ipython3",
   "version": "3.8.4"
  }
 },
 "nbformat": 4,
 "nbformat_minor": 2
}
