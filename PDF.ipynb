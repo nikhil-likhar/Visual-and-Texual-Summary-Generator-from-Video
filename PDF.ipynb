{
 "cells": [
  {
   "cell_type": "code",
   "execution_count": 11,
   "id": "selected-aruba",
   "metadata": {},
   "outputs": [
    {
     "data": {
      "text/plain": [
       "''"
      ]
     },
     "execution_count": 11,
     "metadata": {},
     "output_type": "execute_result"
    }
   ],
   "source": [
    "from fpdf import FPDF\n",
    "pdf = FPDF()\n",
    "# imagelist is the list with all image filenames\n",
    "# for image in imagelist:\n",
    "pdf.add_page()\n",
    "pdf.image(\"current.jpg\",10,10,-300)\n",
    "pdf.output(\"yourfile.pdf\", \"F\")"
   ]
  },
  {
   "cell_type": "code",
   "execution_count": 21,
   "id": "desirable-animal",
   "metadata": {},
   "outputs": [],
   "source": [
    "from PIL import Image\n",
    "import os\n",
    "\n",
    "folder_name=\"data\"\n",
    "folder_address=\"./\"+folder_name\n",
    "name_list=os.listdir(folder_address)\n",
    "\n",
    "output_name=\"Phases\"\n",
    "\n",
    "image=Image.open(folder_address+\"/\"+name_list[0])\n",
    "first_image = image.convert('RGB')\n",
    "\n",
    "image_list=[]\n",
    "for i in range(1,len(name_list)):\n",
    "    image = Image.open(folder_address+\"/\"+name_list[i])\n",
    "    img = image.convert('RGB')\n",
    "    image_list.append(img)\n",
    "\n",
    "\n",
    "first_image.save(output_name+\".pdf\",save_all=True, append_images=image_list)\n"
   ]
  },
  {
   "cell_type": "code",
   "execution_count": null,
   "id": "first-hearts",
   "metadata": {},
   "outputs": [],
   "source": []
  },
  {
   "cell_type": "code",
   "execution_count": null,
   "id": "eight-manitoba",
   "metadata": {},
   "outputs": [],
   "source": []
  },
  {
   "cell_type": "code",
   "execution_count": 1,
   "id": "christian-weekend",
   "metadata": {},
   "outputs": [],
   "source": [
    "s=\"Phases-Transcript\"\n",
    "l=s.split(\"-\")"
   ]
  },
  {
   "cell_type": "code",
   "execution_count": 2,
   "id": "executive-parts",
   "metadata": {},
   "outputs": [
    {
     "name": "stdout",
     "output_type": "stream",
     "text": [
      "['Phases', 'Transcript']\n"
     ]
    }
   ],
   "source": [
    "print(l)"
   ]
  },
  {
   "cell_type": "code",
   "execution_count": 6,
   "id": "generic-package",
   "metadata": {},
   "outputs": [
    {
     "name": "stdout",
     "output_type": "stream",
     "text": [
      "['Phases-trans1.txt', 'Phases-trans2.txt', 'Phases-trans3.txt', 'Phases-trans4.txt', 'Phases-trans5.txt', 'Phases-trans6.txt', 'Phases-Transcript.txt']\n",
      "not\n",
      "not\n",
      "not\n",
      "not\n",
      "not\n",
      "not\n",
      "got\n"
     ]
    }
   ],
   "source": [
    "import os\n",
    "Trans_Folder = \"Transcripts\"\n",
    "folder_address = \"./\"+Trans_Folder\n",
    "name_list = os.listdir(folder_address)\n",
    "print(name_list)\n",
    "\n",
    "for i in range(len(name_list)):\n",
    "    l = []\n",
    "    l = name_list[i].split(\"-\")\n",
    "    if(l[1]==\"Transcript.txt\"):\n",
    "        print(\"got\")\n",
    "    else:\n",
    "        [print(\"not\")]"
   ]
  },
  {
   "cell_type": "code",
   "execution_count": 7,
   "id": "enormous-aging",
   "metadata": {},
   "outputs": [],
   "source": [
    "name_list=['Phases-trans1.txt', 'Phases-trans2.txt', 'Phases-trans3.txt', 'Phases-trans4.txt', 'Phases-trans5.txt', 'Phases-trans6.txt', 'Phases-Transcript.txt']"
   ]
  },
  {
   "cell_type": "code",
   "execution_count": 9,
   "id": "rational-plaintiff",
   "metadata": {},
   "outputs": [
    {
     "name": "stdout",
     "output_type": "stream",
     "text": [
      "['Phases-trans1.txt', 'Phases-trans2.txt', 'Phases-trans3.txt', 'Phases-trans4.txt', 'Phases-trans5.txt', 'Phases-trans6.txt']\n"
     ]
    }
   ],
   "source": [
    "\n",
    "print(name_list)\n"
   ]
  },
  {
   "cell_type": "code",
   "execution_count": 34,
   "id": "interim-sentence",
   "metadata": {},
   "outputs": [
    {
     "name": "stdout",
     "output_type": "stream",
     "text": [
      "C:\\Projects\\KeyFrames and Summarization\\Final Version\n",
      "Deleted  ./data\n",
      "Deleted  ./Extracts\n",
      "Deleted  ./Transcripts\n",
      "Deleted  ./Summary\n"
     ]
    }
   ],
   "source": [
    "#Deleter\n",
    "import shutil\n",
    "\n",
    "# Delete all contents of a directory using shutil.rmtree() and  handle exceptions\n",
    "\n",
    "path=os.getcwd()\n",
    "print(path)\n",
    "try:\n",
    "    dirPath = './data'\n",
    "    if(os.path.exists(dirPath)):\n",
    "        shutil.rmtree(dirPath)\n",
    "        print(\"Deleted \",dirPath)\n",
    "\n",
    "    dirPath = './Extracts'\n",
    "    if(os.path.exists(dirPath)):\n",
    "        shutil.rmtree(dirPath)\n",
    "        print(\"Deleted \",dirPath)\n",
    "\n",
    "    dirPath = './Transcripts'\n",
    "    if(os.path.exists(dirPath)):\n",
    "        shutil.rmtree(dirPath)\n",
    "        print(\"Deleted \",dirPath)\n",
    "\n",
    "    dirPath = './Summary'\n",
    "    if(os.path.exists(dirPath)):\n",
    "        shutil.rmtree(dirPath)\n",
    "        print(\"Deleted \",dirPath)\n",
    "\n",
    "\n",
    "except:\n",
    "    print('Error while deleting directory',dirPath)"
   ]
  },
  {
   "cell_type": "code",
   "execution_count": 35,
   "id": "interpreted-saint",
   "metadata": {},
   "outputs": [
    {
     "name": "stdout",
     "output_type": "stream",
     "text": [
      "Created  ./data\n",
      "Created  ./Extracts\n",
      "Created  ./Transcripts\n",
      "Created  ./Summary\n"
     ]
    }
   ],
   "source": [
    "#maker\n",
    "try:\n",
    "    dirPath = './data'\n",
    "    if not(os.path.isfile(dirPath)):\n",
    "        os.mkdir(dirPath)\n",
    "        print(\"Created \",dirPath)\n",
    "\n",
    "    dirPath = './Extracts'\n",
    "    if not(os.path.isfile(dirPath)):\n",
    "        os.mkdir(dirPath)\n",
    "        print(\"Created \",dirPath)\n",
    "    \n",
    "    dirPath = './Transcripts'\n",
    "    if not(os.path.isfile(dirPath)):\n",
    "        os.mkdir(dirPath)\n",
    "        print(\"Created \",dirPath)\n",
    "    \n",
    "    dirPath = './Summary'\n",
    "    if not(os.path.isfile(dirPath)):\n",
    "        os.mkdir(dirPath)\n",
    "        print(\"Created \",dirPath)\n",
    "    \n",
    "    \n",
    "except :\n",
    "    print('Error while Creating directory',dirPath)"
   ]
  },
  {
   "cell_type": "code",
   "execution_count": 5,
   "id": "caroline-racing",
   "metadata": {},
   "outputs": [
    {
     "name": "stdout",
     "output_type": "stream",
     "text": [
      "['so', 'there', \"won't\", 'be', 'any', 'Central', 'control', 'of', 'project', 'manager', 'as', 'it', 'was', 'there', 'in', 'the', 'traditional', 'way', 'of', 'working', 'before', 'We', 'moved', 'for', \"let's\", 'have', 'a', 'look', 'at', 'the', 'Agile', 'development', 'cycle']\n",
      "33\n"
     ]
    }
   ],
   "source": [
    "text=\" so there won't be any Central control of project manager as it was there in the traditional way of working before We moved for let's have a look at the Agile development cycle\" \n",
    "l=text.split()\n",
    "print(l)\n",
    "print(len(l))"
   ]
  },
  {
   "cell_type": "code",
   "execution_count": null,
   "id": "destroyed-store",
   "metadata": {},
   "outputs": [],
   "source": []
  }
 ],
 "metadata": {
  "kernelspec": {
   "display_name": "Python 3",
   "language": "python",
   "name": "python3"
  },
  "language_info": {
   "codemirror_mode": {
    "name": "ipython",
    "version": 3
   },
   "file_extension": ".py",
   "mimetype": "text/x-python",
   "name": "python",
   "nbconvert_exporter": "python",
   "pygments_lexer": "ipython3",
   "version": "3.8.4"
  }
 },
 "nbformat": 4,
 "nbformat_minor": 5
}
